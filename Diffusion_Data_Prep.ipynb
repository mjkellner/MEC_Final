{
  "nbformat": 4,
  "nbformat_minor": 0,
  "metadata": {
    "colab": {
      "provenance": [],
      "machine_shape": "hm",
      "gpuType": "T4",
      "authorship_tag": "ABX9TyOFRQwZEHqPAWJOgZaZIkfn",
      "include_colab_link": true
    },
    "kernelspec": {
      "name": "python3",
      "display_name": "Python 3"
    },
    "language_info": {
      "name": "python"
    },
    "accelerator": "GPU",
    "gpuClass": "premium"
  },
  "cells": [
    {
      "cell_type": "markdown",
      "metadata": {
        "id": "view-in-github",
        "colab_type": "text"
      },
      "source": [
        "<a href=\"https://colab.research.google.com/github/mjkellner/MEC_Final/blob/main/Diffusion_Data_Prep.ipynb\" target=\"_parent\"><img src=\"https://colab.research.google.com/assets/colab-badge.svg\" alt=\"Open In Colab\"/></a>"
      ]
    },
    {
      "cell_type": "code",
      "execution_count": 1,
      "metadata": {
        "colab": {
          "base_uri": "https://localhost:8080/"
        },
        "id": "v17vf5goPk-9",
        "outputId": "d900ff43-4805-4d98-ab2e-dcb759ae8871"
      },
      "outputs": [
        {
          "output_type": "stream",
          "name": "stdout",
          "text": [
            "Mounted at /content/drive\n"
          ]
        }
      ],
      "source": [
        "from google.colab import drive\n",
        "drive.mount('/content/drive')"
      ]
    },
    {
      "cell_type": "code",
      "source": [
        "## take the json file output from Openpose and convert it to a text file with only the body pose data\n",
        "\n",
        "import os\n",
        "import json\n",
        "\n",
        "# Set the input and output folder paths\n",
        "input_folder = '/content/drive/MyDrive/Colab_Notebooks/MEC_Final/Videos/Driver_Front_Source/output_json'\n",
        "output_folder = '/content/drive/MyDrive/Colab_Notebooks/MEC_Final/Videos/Driver_Front_Source/output_txt'\n",
        "\n",
        "# Create the output folder if it doesn't exist\n",
        "if not os.path.exists(output_folder):\n",
        "    os.makedirs(output_folder)\n",
        "\n",
        "# Loop over each JSON file in the input folder\n",
        "for filename in os.listdir(input_folder):\n",
        "    if filename.endswith('.json'):\n",
        "        # Load the JSON data from the file\n",
        "        with open(os.path.join(input_folder, filename)) as f:\n",
        "            data = json.load(f)\n",
        "        #if data['people'][0]['pose_keypoints_2d'] == True:     \n",
        "        #  data2 = data['people'][0]['pose_keypoints_2d']\n",
        "\n",
        "        # Create the output file path and name\n",
        "        output_filename = os.path.splitext(filename)[0] + '.txt'\n",
        "        output_filepath = os.path.join(output_folder, output_filename)\n",
        "        \n",
        "        # Print the output file path for debugging\n",
        "        #print(output_filepath)\n",
        "\n",
        "        # Write the data to the output file\n",
        "        with open(output_filepath, mode='w') as txt_file:\n",
        "            for item in data2:\n",
        "              #print(item)\n",
        "              txt_file.write(str('{:.2e}'.format(item)) + '\\n')"
      ],
      "metadata": {
        "id": "w3NfJSxryR26"
      },
      "execution_count": 55,
      "outputs": []
    },
    {
      "cell_type": "code",
      "source": [
        "import os\n",
        "path = '/content/drive/MyDrive/Colab_Notebooks/MEC_Final/PIDM_Diffusion/dataset/golfswing/img/Tiger_Front_img'\n",
        "extension = '.jpg'\n",
        "\n",
        "for i, filename in enumerate(os.listdir(path)):\n",
        "    if filename.endswith(extension):\n",
        "        new_filename = 'Tiger_Front_00{}.jpg'.format(i)\n",
        "        old_path = os.path.join(path, filename)\n",
        "        new_path = os.path.join(path, new_filename)\n",
        "        os.rename(old_path, new_path)\n",
        "\n"
      ],
      "metadata": {
        "id": "FOr1z9aY--m6"
      },
      "execution_count": 10,
      "outputs": []
    },
    {
      "cell_type": "code",
      "source": [
        "path = '/content/drive/MyDrive/Colab_Notebooks/MEC_Final/PIDM_Diffusion/dataset/golfswing/pose/Tiger_Front_txt'\n",
        "extension = '.txt'\n",
        "\n",
        "for i, filename in enumerate(os.listdir(path)):\n",
        "    if filename.endswith(extension):\n",
        "        new_filename = 'Tiger_Front_00{}.txt'.format(i)\n",
        "        old_path = os.path.join(path, filename)\n",
        "        new_path = os.path.join(path, new_filename)\n",
        "        os.rename(old_path, new_path)"
      ],
      "metadata": {
        "id": "Qg4RsLdjCx-Z"
      },
      "execution_count": 11,
      "outputs": []
    },
    {
      "cell_type": "code",
      "source": [
        "import os\n",
        "import re\n",
        "\n",
        "folder1 = '/content/drive/MyDrive/Colab_Notebooks/MEC_Final/PIDM_Diffusion/dataset/golfswing/img/Tiger_Back_img'\n",
        "folder2 = '/content/drive/MyDrive/Colab_Notebooks/MEC_Final/PIDM_Diffusion/dataset/golfswing/img/Tiger_Front_img'\n",
        "output_file = '/content/drive/MyDrive/Colab_Notebooks/MEC_Final/PIDM_Diffusion/dataset/golfswing/training_pairs.txt'\n",
        "\n",
        "existing_pairs = set()\n",
        "\n",
        "if os.path.exists(output_file):\n",
        "    with open(output_file, 'r') as f:\n",
        "        for line in f:\n",
        "            pair = tuple(line.strip().split(','))\n",
        "            existing_pairs.add(pair)\n",
        "\n",
        "files1 = sorted(os.listdir(folder1))\n",
        "files2 = sorted(os.listdir(folder2))\n",
        "\n",
        "with open(output_file, 'a') as f:\n",
        "    for filename1 in files1:\n",
        "        match1 = re.search(r'(\\d+)', filename1)\n",
        "        for filename2 in files2:\n",
        "            match2 = re.search(r'(\\d+)', filename2)\n",
        "            if match1.group(1) == match2.group(1):\n",
        "                pair1 = (filename1, filename2)\n",
        "                pair2 = (filename2, filename1)\n",
        "                if pair1 not in existing_pairs and pair2 not in existing_pairs:\n",
        "                    f.write(f\"{filename1},{filename2}\\n\")\n",
        "                    f.write(f\"{filename2}, {filename1}\\n\")\n",
        "                    existing_pairs.add(pair1) \n",
        "                    existing_pairs.add(pair2)"
      ],
      "metadata": {
        "id": "h2PkcuXVHb0v"
      },
      "execution_count": null,
      "outputs": []
    },
    {
      "cell_type": "code",
      "source": [
        "from sklearn.model_selection import train_test_split\n",
        "\n",
        "filename = \"/content/drive/MyDrive/Colab_Notebooks/MEC_Final/PIDM_Diffusion/dataset/golfswing/training_pairs.txt\"\n",
        "\n",
        "# Read the lines from the text file\n",
        "with open(filename, \"r\") as f:\n",
        "    lines = f.readlines()\n",
        "\n",
        "# Split the data into a training set and a test set\n",
        "train_lines, test_lines = train_test_split(lines, test_size=0.3)\n",
        "\n",
        "# Write the training set to a new text file\n",
        "with open(\"/content/drive/MyDrive/Colab_Notebooks/MEC_Final/PIDM_Diffusion/dataset/golfswing/trainfile.txt\", \"w\") as f:\n",
        "    f.writelines(train_lines)\n",
        "\n",
        "# Write the test set to a new text file\n",
        "with open(\"/content/drive/MyDrive/Colab_Notebooks/MEC_Final/PIDM_Diffusion/dataset/golfswing/testfile.txt\", \"w\") as f:\n",
        "    f.writelines(test_lines)"
      ],
      "metadata": {
        "id": "rBWjJEoNLGDg"
      },
      "execution_count": 41,
      "outputs": []
    },
    {
      "cell_type": "code",
      "source": [
        "!pip install lmdb"
      ],
      "metadata": {
        "colab": {
          "base_uri": "https://localhost:8080/"
        },
        "id": "2qXcxk-DP3c2",
        "outputId": "13af688f-7700-4a0c-a5b4-3b5d7af884ae"
      },
      "execution_count": 55,
      "outputs": [
        {
          "output_type": "stream",
          "name": "stdout",
          "text": [
            "Looking in indexes: https://pypi.org/simple, https://us-python.pkg.dev/colab-wheels/public/simple/\n",
            "Collecting lmdb\n",
            "  Downloading lmdb-1.4.1-cp310-cp310-manylinux_2_17_x86_64.manylinux2014_x86_64.whl (299 kB)\n",
            "\u001b[2K     \u001b[90m━━━━━━━━━━━━━━━━━━━━━━━━━━━━━━━━━━━━━━\u001b[0m \u001b[32m299.2/299.2 kB\u001b[0m \u001b[31m20.2 MB/s\u001b[0m eta \u001b[36m0:00:00\u001b[0m\n",
            "\u001b[?25hInstalling collected packages: lmdb\n",
            "Successfully installed lmdb-1.4.1\n"
          ]
        }
      ]
    },
    {
      "cell_type": "code",
      "source": [
        "!python /content/drive/MyDrive/Colab_Notebooks/MEC_Final/PIDM_Diffusion/PIDM/data/prepare_data.py \\\n",
        "--root /content/drive/MyDrive/Colab_Notebooks/MEC_Final/PIDM_Diffusion/dataset/golfswing/ \\\n",
        "--out /content/drive/MyDrive/Colab_Notebooks/MEC_Final/PIDM_Diffusion/dataset/ \n"
      ],
      "metadata": {
        "colab": {
          "base_uri": "https://localhost:8080/"
        },
        "id": "eCCKG_yQLvjX",
        "outputId": "f941e2d0-727a-4142-c320-b14eedfd1dfa"
      },
      "execution_count": 75,
      "outputs": [
        {
          "output_type": "stream",
          "name": "stdout",
          "text": [
            "100% 198/198 [00:04<00:00, 47.38it/s]\n"
          ]
        }
      ]
    },
    {
      "cell_type": "code",
      "source": [
        "!cd /content/drive/MyDrive/Colab_Notebooks/MEC_Final/PIDM_Diffusion/PIDM\n",
        "# 1. Create a conda virtual environment.\n",
        "!pip install torch==1.9.0 torchvision==0.10.0 torchaudio==0.9.0\n",
        "!pip install -r /content/drive/MyDrive/Colab_Notebooks/MEC_Final/PIDM_Diffusion/PIDM/requirements.txt\n"
      ],
      "metadata": {
        "id": "1imm-TtpcYj-"
      },
      "execution_count": null,
      "outputs": []
    },
    {
      "cell_type": "code",
      "source": [
        "!python -m torch.distributed.launch \\\n",
        "--nproc_per_node=8 \\\n",
        "--master_port 48949 /content/drive/MyDrive/Colab_Notebooks/MEC_Final/PIDM_Diffusion/PIDM/train.py \\\n",
        "--dataset_path \"/content/drive/MyDrive/Colab_Notebooks/MEC_Final/PIDM_Diffusion/dataset\" \n"
      ],
      "metadata": {
        "id": "A93sukNc9rbo"
      },
      "execution_count": null,
      "outputs": []
    },
    {
      "cell_type": "code",
      "source": [
        "#@title Pose Control using PIDM\n",
        "%cd \"/content/drive/MyDrive/Colab_Notebooks/MEC_Final/PIDM_Diffusion/PIDM\"\n",
        "from predict import Predictor\n",
        "from IPython.display import Image \n",
        "from google.colab import files \n",
        "obj = Predictor()\n",
        "\n",
        "### upload a source file\n",
        "#Path = list(files.upload().keys())[0] # Please check \"/content/pidm-demo/data/\" for sample images for source file.\n",
        "### OR enter the path \n",
        "Path = \"/content/drive/MyDrive/Colab_Notebooks/MEC_Final/Videos/Driver_Front_Source/org_images/Tiger Driver Front_1_000000000002.jpg\"\n",
        "\n",
        "obj.predict_pose(image=Path, sample_algorithm='ddim', num_poses=2, nsteps=50)\n",
        "\n",
        "Image('output.png')"
      ],
      "metadata": {
        "colab": {
          "base_uri": "https://localhost:8080/",
          "height": 901
        },
        "id": "t2fcyguGQ3dP",
        "outputId": "7120f4d2-b079-46dc-b46b-db9c52ac7bbd"
      },
      "execution_count": null,
      "outputs": [
        {
          "output_type": "stream",
          "name": "stdout",
          "text": [
            "/content/drive/MyDrive/Colab_Notebooks/MEC_Final/PIDM_Diffusion/PIDM\n"
          ]
        },
        {
          "output_type": "error",
          "ename": "ModuleNotFoundError",
          "evalue": "ignored",
          "traceback": [
            "\u001b[0;31m---------------------------------------------------------------------------\u001b[0m",
            "\u001b[0;31mModuleNotFoundError\u001b[0m                       Traceback (most recent call last)",
            "\u001b[0;32m<ipython-input-25-002d362e4a6f>\u001b[0m in \u001b[0;36m<cell line: 3>\u001b[0;34m()\u001b[0m\n\u001b[1;32m      1\u001b[0m \u001b[0;31m#@title Pose Control using PIDM\u001b[0m\u001b[0;34m\u001b[0m\u001b[0;34m\u001b[0m\u001b[0m\n\u001b[1;32m      2\u001b[0m \u001b[0mget_ipython\u001b[0m\u001b[0;34m(\u001b[0m\u001b[0;34m)\u001b[0m\u001b[0;34m.\u001b[0m\u001b[0mrun_line_magic\u001b[0m\u001b[0;34m(\u001b[0m\u001b[0;34m'cd'\u001b[0m\u001b[0;34m,\u001b[0m \u001b[0;34m'\"/content/drive/MyDrive/Colab_Notebooks/MEC_Final/PIDM_Diffusion/PIDM\"'\u001b[0m\u001b[0;34m)\u001b[0m\u001b[0;34m\u001b[0m\u001b[0;34m\u001b[0m\u001b[0m\n\u001b[0;32m----> 3\u001b[0;31m \u001b[0;32mfrom\u001b[0m \u001b[0mpredict\u001b[0m \u001b[0;32mimport\u001b[0m \u001b[0mPredictor\u001b[0m\u001b[0;34m\u001b[0m\u001b[0;34m\u001b[0m\u001b[0m\n\u001b[0m\u001b[1;32m      4\u001b[0m \u001b[0;32mfrom\u001b[0m \u001b[0mIPython\u001b[0m\u001b[0;34m.\u001b[0m\u001b[0mdisplay\u001b[0m \u001b[0;32mimport\u001b[0m \u001b[0mImage\u001b[0m\u001b[0;34m\u001b[0m\u001b[0;34m\u001b[0m\u001b[0m\n\u001b[1;32m      5\u001b[0m \u001b[0;32mfrom\u001b[0m \u001b[0mgoogle\u001b[0m\u001b[0;34m.\u001b[0m\u001b[0mcolab\u001b[0m \u001b[0;32mimport\u001b[0m \u001b[0mfiles\u001b[0m\u001b[0;34m\u001b[0m\u001b[0;34m\u001b[0m\u001b[0m\n",
            "\u001b[0;32m/content/drive/MyDrive/Colab_Notebooks/MEC_Final/PIDM_Diffusion/PIDM/predict.py\u001b[0m in \u001b[0;36m<module>\u001b[0;34m\u001b[0m\n\u001b[1;32m      9\u001b[0m \u001b[0;32mfrom\u001b[0m \u001b[0mtorchvision\u001b[0m\u001b[0;34m.\u001b[0m\u001b[0mutils\u001b[0m \u001b[0;32mimport\u001b[0m \u001b[0msave_image\u001b[0m\u001b[0;34m\u001b[0m\u001b[0;34m\u001b[0m\u001b[0m\n\u001b[1;32m     10\u001b[0m \u001b[0;32mfrom\u001b[0m \u001b[0mPIL\u001b[0m \u001b[0;32mimport\u001b[0m \u001b[0mImage\u001b[0m\u001b[0;34m\u001b[0m\u001b[0;34m\u001b[0m\u001b[0m\n\u001b[0;32m---> 11\u001b[0;31m \u001b[0;32mfrom\u001b[0m \u001b[0mtensorfn\u001b[0m \u001b[0;32mimport\u001b[0m \u001b[0mload_config\u001b[0m \u001b[0;32mas\u001b[0m \u001b[0mDiffConfig\u001b[0m\u001b[0;34m\u001b[0m\u001b[0;34m\u001b[0m\u001b[0m\n\u001b[0m\u001b[1;32m     12\u001b[0m \u001b[0;32mimport\u001b[0m \u001b[0mnumpy\u001b[0m \u001b[0;32mas\u001b[0m \u001b[0mnp\u001b[0m\u001b[0;34m\u001b[0m\u001b[0;34m\u001b[0m\u001b[0m\n\u001b[1;32m     13\u001b[0m \u001b[0;32mfrom\u001b[0m \u001b[0mconfig\u001b[0m\u001b[0;34m.\u001b[0m\u001b[0mdiffconfig\u001b[0m \u001b[0;32mimport\u001b[0m \u001b[0mDiffusionConfig\u001b[0m\u001b[0;34m,\u001b[0m \u001b[0mget_model_conf\u001b[0m\u001b[0;34m\u001b[0m\u001b[0;34m\u001b[0m\u001b[0m\n",
            "\u001b[0;32m/usr/local/lib/python3.9/dist-packages/tensorfn/__init__.py\u001b[0m in \u001b[0;36m<module>\u001b[0;34m\u001b[0m\n\u001b[1;32m      5\u001b[0m     \u001b[0;32mfrom\u001b[0m \u001b[0mtensorfn\u001b[0m \u001b[0;32mimport\u001b[0m \u001b[0mnsml_wrapper\u001b[0m \u001b[0;32mas\u001b[0m \u001b[0mnsml\u001b[0m\u001b[0;34m\u001b[0m\u001b[0;34m\u001b[0m\u001b[0m\n\u001b[1;32m      6\u001b[0m \u001b[0;34m\u001b[0m\u001b[0m\n\u001b[0;32m----> 7\u001b[0;31m from tensorfn.util import (\n\u001b[0m\u001b[1;32m      8\u001b[0m     \u001b[0mread_config\u001b[0m\u001b[0;34m,\u001b[0m\u001b[0;34m\u001b[0m\u001b[0;34m\u001b[0m\u001b[0m\n\u001b[1;32m      9\u001b[0m     \u001b[0mpreset_argparser\u001b[0m\u001b[0;34m,\u001b[0m\u001b[0;34m\u001b[0m\u001b[0;34m\u001b[0m\u001b[0m\n",
            "\u001b[0;32m/usr/local/lib/python3.9/dist-packages/tensorfn/util/__init__.py\u001b[0m in \u001b[0;36m<module>\u001b[0;34m\u001b[0m\n\u001b[0;32m----> 1\u001b[0;31m from tensorfn.util.config import (\n\u001b[0m\u001b[1;32m      2\u001b[0m     \u001b[0mread_config\u001b[0m\u001b[0;34m,\u001b[0m\u001b[0;34m\u001b[0m\u001b[0;34m\u001b[0m\u001b[0m\n\u001b[1;32m      3\u001b[0m     \u001b[0mpreset_argparser\u001b[0m\u001b[0;34m,\u001b[0m\u001b[0;34m\u001b[0m\u001b[0;34m\u001b[0m\u001b[0m\n\u001b[1;32m      4\u001b[0m     \u001b[0mload_config\u001b[0m\u001b[0;34m,\u001b[0m\u001b[0;34m\u001b[0m\u001b[0;34m\u001b[0m\u001b[0m\n\u001b[1;32m      5\u001b[0m     \u001b[0mload_arg_config\u001b[0m\u001b[0;34m,\u001b[0m\u001b[0;34m\u001b[0m\u001b[0;34m\u001b[0m\u001b[0m\n",
            "\u001b[0;32m/usr/local/lib/python3.9/dist-packages/tensorfn/util/config.py\u001b[0m in \u001b[0;36m<module>\u001b[0;34m\u001b[0m\n\u001b[1;32m      9\u001b[0m \u001b[0;32mimport\u001b[0m \u001b[0mtorch\u001b[0m\u001b[0;34m\u001b[0m\u001b[0;34m\u001b[0m\u001b[0m\n\u001b[1;32m     10\u001b[0m \u001b[0;34m\u001b[0m\u001b[0m\n\u001b[0;32m---> 11\u001b[0;31m \u001b[0;32mfrom\u001b[0m \u001b[0mtorch\u001b[0m\u001b[0;34m.\u001b[0m\u001b[0mdistributed\u001b[0m\u001b[0;34m.\u001b[0m\u001b[0melastic\u001b[0m\u001b[0;34m.\u001b[0m\u001b[0mmultiprocessing\u001b[0m \u001b[0;32mimport\u001b[0m \u001b[0mStd\u001b[0m\u001b[0;34m\u001b[0m\u001b[0;34m\u001b[0m\u001b[0m\n\u001b[0m\u001b[1;32m     12\u001b[0m \u001b[0;32mfrom\u001b[0m \u001b[0mtorch\u001b[0m\u001b[0;34m.\u001b[0m\u001b[0mdistributed\u001b[0m\u001b[0;34m.\u001b[0m\u001b[0melastic\u001b[0m\u001b[0;34m.\u001b[0m\u001b[0mrendezvous\u001b[0m\u001b[0;34m.\u001b[0m\u001b[0mutils\u001b[0m \u001b[0;32mimport\u001b[0m \u001b[0m_parse_rendezvous_config\u001b[0m\u001b[0;34m\u001b[0m\u001b[0;34m\u001b[0m\u001b[0m\n\u001b[1;32m     13\u001b[0m \u001b[0;32mfrom\u001b[0m \u001b[0mtorch\u001b[0m\u001b[0;34m.\u001b[0m\u001b[0mdistributed\u001b[0m\u001b[0;34m.\u001b[0m\u001b[0mlauncher\u001b[0m\u001b[0;34m.\u001b[0m\u001b[0mapi\u001b[0m \u001b[0;32mimport\u001b[0m \u001b[0mLaunchConfig\u001b[0m\u001b[0;34m\u001b[0m\u001b[0;34m\u001b[0m\u001b[0m\n",
            "\u001b[0;31mModuleNotFoundError\u001b[0m: No module named 'torch.distributed.elastic'",
            "",
            "\u001b[0;31m---------------------------------------------------------------------------\u001b[0;32m\nNOTE: If your import is failing due to a missing package, you can\nmanually install dependencies using either !pip or !apt.\n\nTo view examples of installing some common dependencies, click the\n\"Open Examples\" button below.\n\u001b[0;31m---------------------------------------------------------------------------\u001b[0m\n"
          ],
          "errorDetails": {
            "actions": [
              {
                "action": "open_url",
                "actionText": "Open Examples",
                "url": "/notebooks/snippets/importing_libraries.ipynb"
              }
            ]
          }
        }
      ]
    },
    {
      "cell_type": "code",
      "source": [],
      "metadata": {
        "id": "iyMYyMpdQ5Hv"
      },
      "execution_count": null,
      "outputs": []
    },
    {
      "cell_type": "code",
      "source": [],
      "metadata": {
        "id": "Lqw4zKZIQ3f4"
      },
      "execution_count": null,
      "outputs": []
    },
    {
      "cell_type": "code",
      "source": [],
      "metadata": {
        "id": "aCaXIuufQ3ji"
      },
      "execution_count": null,
      "outputs": []
    }
  ]
}