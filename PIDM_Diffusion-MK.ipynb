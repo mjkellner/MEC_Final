{
  "nbformat": 4,
  "nbformat_minor": 0,
  "metadata": {
    "colab": {
      "provenance": [],
      "machine_shape": "hm",
      "gpuType": "A100",
      "authorship_tag": "ABX9TyNULbInpNsJ3ucdna8WlXjk",
      "include_colab_link": true
    },
    "kernelspec": {
      "name": "python3",
      "display_name": "Python 3"
    },
    "language_info": {
      "name": "python"
    },
    "accelerator": "GPU",
    "gpuClass": "premium"
  },
  "cells": [
    {
      "cell_type": "markdown",
      "metadata": {
        "id": "view-in-github",
        "colab_type": "text"
      },
      "source": [
        "<a href=\"https://colab.research.google.com/github/mjkellner/MEC_Final/blob/main/PIDM_Diffusion-MK.ipynb\" target=\"_parent\"><img src=\"https://colab.research.google.com/assets/colab-badge.svg\" alt=\"Open In Colab\"/></a>"
      ]
    },
    {
      "cell_type": "code",
      "execution_count": 1,
      "metadata": {
        "colab": {
          "base_uri": "https://localhost:8080/"
        },
        "id": "v17vf5goPk-9",
        "outputId": "ddbafe4e-04e4-4d81-d0a9-24320ce3777c"
      },
      "outputs": [
        {
          "output_type": "stream",
          "name": "stdout",
          "text": [
            "Mounted at /content/drive\n"
          ]
        }
      ],
      "source": [
        "from google.colab import drive\n",
        "drive.mount('/content/drive')"
      ]
    },
    {
      "cell_type": "code",
      "source": [
        "## take the json file output from Openpose and convert it to a text file with only the body pose data\n",
        "\n",
        "import os\n",
        "import json\n",
        "\n",
        "# Set the input and output folder paths\n",
        "input_folder = '/content/drive/MyDrive/Colab_Notebooks/MEC_Final/Videos/Driver_Front_Source/output_json'\n",
        "output_folder = '/content/drive/MyDrive/Colab_Notebooks/MEC_Final/Videos/Driver_Front_Source/output_txt'\n",
        "\n",
        "# Create the output folder if it doesn't exist\n",
        "if not os.path.exists(output_folder):\n",
        "    os.makedirs(output_folder)\n",
        "\n",
        "# Loop over each JSON file in the input folder\n",
        "for filename in os.listdir(input_folder):\n",
        "    if filename.endswith('.json'):\n",
        "        # Load the JSON data from the file\n",
        "        with open(os.path.join(input_folder, filename)) as f:\n",
        "            data = json.load(f)\n",
        "        #if data['people'][0]['pose_keypoints_2d'] == True:     \n",
        "        #  data2 = data['people'][0]['pose_keypoints_2d']\n",
        "\n",
        "        # Create the output file path and name\n",
        "        output_filename = os.path.splitext(filename)[0] + '.txt'\n",
        "        output_filepath = os.path.join(output_folder, output_filename)\n",
        "        \n",
        "        # Print the output file path for debugging\n",
        "        #print(output_filepath)\n",
        "\n",
        "        # Write the data to the output file\n",
        "        with open(output_filepath, mode='w') as txt_file:\n",
        "            for item in data2:\n",
        "              #print(item)\n",
        "              txt_file.write(str('{:.2e}'.format(item)) + '\\n')"
      ],
      "metadata": {
        "id": "w3NfJSxryR26"
      },
      "execution_count": 55,
      "outputs": []
    },
    {
      "cell_type": "code",
      "source": [
        "import os\n",
        "path = '/content/drive/MyDrive/Colab_Notebooks/MEC_Final/PIDM_Diffusion/dataset/golfswing/img/Tiger_Front_img'\n",
        "extension = '.jpg'\n",
        "\n",
        "for i, filename in enumerate(os.listdir(path)):\n",
        "    if filename.endswith(extension):\n",
        "        new_filename = 'Tiger_Front_00{}.jpg'.format(i)\n",
        "        old_path = os.path.join(path, filename)\n",
        "        new_path = os.path.join(path, new_filename)\n",
        "        os.rename(old_path, new_path)\n",
        "\n"
      ],
      "metadata": {
        "id": "FOr1z9aY--m6"
      },
      "execution_count": 10,
      "outputs": []
    },
    {
      "cell_type": "code",
      "source": [
        "path = '/content/drive/MyDrive/Colab_Notebooks/MEC_Final/PIDM_Diffusion/dataset/golfswing/pose/Tiger_Front_txt'\n",
        "extension = '.txt'\n",
        "\n",
        "for i, filename in enumerate(os.listdir(path)):\n",
        "    if filename.endswith(extension):\n",
        "        new_filename = 'Tiger_Front_00{}.txt'.format(i)\n",
        "        old_path = os.path.join(path, filename)\n",
        "        new_path = os.path.join(path, new_filename)\n",
        "        os.rename(old_path, new_path)"
      ],
      "metadata": {
        "id": "Qg4RsLdjCx-Z"
      },
      "execution_count": 11,
      "outputs": []
    },
    {
      "cell_type": "code",
      "source": [
        "import os\n",
        "import re\n",
        "\n",
        "folder1 = '/content/drive/MyDrive/Colab_Notebooks/MEC_Final/PIDM_Diffusion/dataset/golfswing/img/Tiger_Back_img'\n",
        "folder2 = '/content/drive/MyDrive/Colab_Notebooks/MEC_Final/PIDM_Diffusion/dataset/golfswing/img/Tiger_Front_img'\n",
        "output_file = '/content/drive/MyDrive/Colab_Notebooks/MEC_Final/PIDM_Diffusion/dataset/golfswing/training_pairs.txt'\n",
        "\n",
        "existing_pairs = set()\n",
        "\n",
        "if os.path.exists(output_file):\n",
        "    with open(output_file, 'r') as f:\n",
        "        for line in f:\n",
        "            pair = tuple(line.strip().split(','))\n",
        "            existing_pairs.add(pair)\n",
        "\n",
        "files1 = sorted(os.listdir(folder1))\n",
        "files2 = sorted(os.listdir(folder2))\n",
        "\n",
        "with open(output_file, 'a') as f:\n",
        "    for filename1 in files1:\n",
        "        match1 = re.search(r'(\\d+)', filename1)\n",
        "        for filename2 in files2:\n",
        "            match2 = re.search(r'(\\d+)', filename2)\n",
        "            if match1.group(1) == match2.group(1):\n",
        "                pair1 = (filename1, filename2)\n",
        "                pair2 = (filename2, filename1)\n",
        "                if pair1 not in existing_pairs and pair2 not in existing_pairs:\n",
        "                    f.write(f\"{filename1},{filename2}\\n\")\n",
        "                    f.write(f\"{filename2},{filename1}\\n\")\n",
        "                    existing_pairs.add(pair1) \n",
        "                    existing_pairs.add(pair2)"
      ],
      "metadata": {
        "id": "h2PkcuXVHb0v"
      },
      "execution_count": null,
      "outputs": []
    },
    {
      "cell_type": "code",
      "source": [
        "from sklearn.model_selection import train_test_split\n",
        "\n",
        "filename = \"/content/drive/MyDrive/Colab_Notebooks/MEC_Final/PIDM_Diffusion/dataset/golfswing/training_pairs.txt\"\n",
        "\n",
        "# Read the lines from the text file\n",
        "with open(filename, \"r\") as f:\n",
        "    lines = f.readlines()\n",
        "\n",
        "# Split the data into a training set and a test set\n",
        "train_lines, test_lines = train_test_split(lines, test_size=0.3)\n",
        "\n",
        "# Write the training set to a new text file\n",
        "with open(\"/content/drive/MyDrive/Colab_Notebooks/MEC_Final/PIDM_Diffusion/dataset/golfswing/trainfile.txt\", \"w\") as f:\n",
        "    f.writelines(train_lines)\n",
        "\n",
        "# Write the test set to a new text file\n",
        "with open(\"/content/drive/MyDrive/Colab_Notebooks/MEC_Final/PIDM_Diffusion/dataset/golfswing/testfile.txt\", \"w\") as f:\n",
        "    f.writelines(test_lines)"
      ],
      "metadata": {
        "id": "rBWjJEoNLGDg"
      },
      "execution_count": 41,
      "outputs": []
    },
    {
      "cell_type": "code",
      "source": [
        "!pip install lmdb"
      ],
      "metadata": {
        "colab": {
          "base_uri": "https://localhost:8080/"
        },
        "id": "2qXcxk-DP3c2",
        "outputId": "82608b44-eaa8-4592-b367-13d62c5c07e5"
      },
      "execution_count": 3,
      "outputs": [
        {
          "output_type": "stream",
          "name": "stdout",
          "text": [
            "Looking in indexes: https://pypi.org/simple, https://us-python.pkg.dev/colab-wheels/public/simple/\n",
            "Collecting lmdb\n",
            "  Downloading lmdb-1.4.1-cp310-cp310-manylinux_2_17_x86_64.manylinux2014_x86_64.whl (299 kB)\n",
            "\u001b[2K     \u001b[90m━━━━━━━━━━━━━━━━━━━━━━━━━━━━━━━━━━━━━━\u001b[0m \u001b[32m299.2/299.2 kB\u001b[0m \u001b[31m21.8 MB/s\u001b[0m eta \u001b[36m0:00:00\u001b[0m\n",
            "\u001b[?25hInstalling collected packages: lmdb\n",
            "Successfully installed lmdb-1.4.1\n"
          ]
        }
      ]
    },
    {
      "cell_type": "code",
      "source": [
        "!python /content/drive/MyDrive/Colab_Notebooks/MEC_Final/PIDM_Diffusion/PIDM/data/prepare_data.py \\\n",
        "--root /content/drive/MyDrive/Colab_Notebooks/MEC_Final/PIDM_Diffusion/dataset/golfswing/ \\\n",
        "--out /content/drive/MyDrive/Colab_Notebooks/MEC_Final/PIDM_Diffusion/dataset/ \n"
      ],
      "metadata": {
        "id": "eCCKG_yQLvjX"
      },
      "execution_count": null,
      "outputs": []
    },
    {
      "cell_type": "code",
      "source": [
        "!cd /content/drive/MyDrive/Colab_Notebooks/MEC_Final/PIDM_Diffusion/PIDM\n",
        "!pip install torch torchvision torchaudio\n",
        "!apt-get install -y libsm6 libxext6 libxrender-dev\n",
        "#!pip install git+https://github.com/scikit-image/scikit-image.git\n",
        "!pip install -r /content/drive/MyDrive/Colab_Notebooks/MEC_Final/PIDM_Diffusion/PIDM/requirements.txt\n"
      ],
      "metadata": {
        "colab": {
          "base_uri": "https://localhost:8080/",
          "height": 1000
        },
        "id": "1imm-TtpcYj-",
        "outputId": "c039d71a-835d-4ec1-bf82-28a0331c4d9a"
      },
      "execution_count": 2,
      "outputs": [
        {
          "output_type": "stream",
          "name": "stdout",
          "text": [
            "Looking in indexes: https://pypi.org/simple, https://us-python.pkg.dev/colab-wheels/public/simple/\n",
            "Requirement already satisfied: torch in /usr/local/lib/python3.10/dist-packages (2.0.0+cu118)\n",
            "Requirement already satisfied: torchvision in /usr/local/lib/python3.10/dist-packages (0.15.1+cu118)\n",
            "Requirement already satisfied: torchaudio in /usr/local/lib/python3.10/dist-packages (2.0.1+cu118)\n",
            "Requirement already satisfied: filelock in /usr/local/lib/python3.10/dist-packages (from torch) (3.12.0)\n",
            "Requirement already satisfied: typing-extensions in /usr/local/lib/python3.10/dist-packages (from torch) (4.5.0)\n",
            "Requirement already satisfied: sympy in /usr/local/lib/python3.10/dist-packages (from torch) (1.11.1)\n",
            "Requirement already satisfied: networkx in /usr/local/lib/python3.10/dist-packages (from torch) (3.1)\n",
            "Requirement already satisfied: jinja2 in /usr/local/lib/python3.10/dist-packages (from torch) (3.1.2)\n",
            "Requirement already satisfied: triton==2.0.0 in /usr/local/lib/python3.10/dist-packages (from torch) (2.0.0)\n",
            "Requirement already satisfied: cmake in /usr/local/lib/python3.10/dist-packages (from triton==2.0.0->torch) (3.25.2)\n",
            "Requirement already satisfied: lit in /usr/local/lib/python3.10/dist-packages (from triton==2.0.0->torch) (16.0.3)\n",
            "Requirement already satisfied: numpy in /usr/local/lib/python3.10/dist-packages (from torchvision) (1.22.4)\n",
            "Requirement already satisfied: requests in /usr/local/lib/python3.10/dist-packages (from torchvision) (2.27.1)\n",
            "Requirement already satisfied: pillow!=8.3.*,>=5.3.0 in /usr/local/lib/python3.10/dist-packages (from torchvision) (8.4.0)\n",
            "Requirement already satisfied: MarkupSafe>=2.0 in /usr/local/lib/python3.10/dist-packages (from jinja2->torch) (2.1.2)\n",
            "Requirement already satisfied: urllib3<1.27,>=1.21.1 in /usr/local/lib/python3.10/dist-packages (from requests->torchvision) (1.26.15)\n",
            "Requirement already satisfied: certifi>=2017.4.17 in /usr/local/lib/python3.10/dist-packages (from requests->torchvision) (2022.12.7)\n",
            "Requirement already satisfied: charset-normalizer~=2.0.0 in /usr/local/lib/python3.10/dist-packages (from requests->torchvision) (2.0.12)\n",
            "Requirement already satisfied: idna<4,>=2.5 in /usr/local/lib/python3.10/dist-packages (from requests->torchvision) (3.4)\n",
            "Requirement already satisfied: mpmath>=0.19 in /usr/local/lib/python3.10/dist-packages (from sympy->torch) (1.3.0)\n",
            "Reading package lists... Done\n",
            "Building dependency tree       \n",
            "Reading state information... Done\n",
            "libsm6 is already the newest version (2:1.2.3-1).\n",
            "libxext6 is already the newest version (2:1.3.4-0ubuntu1).\n",
            "libxrender-dev is already the newest version (1:0.9.10-1).\n",
            "libxrender-dev set to manually installed.\n",
            "0 upgraded, 0 newly installed, 0 to remove and 24 not upgraded.\n",
            "Looking in indexes: https://pypi.org/simple, https://us-python.pkg.dev/colab-wheels/public/simple/\n",
            "Collecting imageio==2.10.3 (from -r /content/drive/MyDrive/Colab_Notebooks/MEC_Final/PIDM_Diffusion/PIDM/requirements.txt (line 1))\n",
            "  Downloading imageio-2.10.3-py3-none-any.whl (3.3 MB)\n",
            "\u001b[2K     \u001b[90m━━━━━━━━━━━━━━━━━━━━━━━━━━━━━━━━━━━━━━━━\u001b[0m \u001b[32m3.3/3.3 MB\u001b[0m \u001b[31m35.9 MB/s\u001b[0m eta \u001b[36m0:00:00\u001b[0m\n",
            "\u001b[?25hCollecting lmdb==1.2.1 (from -r /content/drive/MyDrive/Colab_Notebooks/MEC_Final/PIDM_Diffusion/PIDM/requirements.txt (line 2))\n",
            "  Downloading lmdb-1.2.1.tar.gz (881 kB)\n",
            "\u001b[2K     \u001b[90m━━━━━━━━━━━━━━━━━━━━━━━━━━━━━━━━━━━━━━\u001b[0m \u001b[32m881.5/881.5 kB\u001b[0m \u001b[31m70.4 MB/s\u001b[0m eta \u001b[36m0:00:00\u001b[0m\n",
            "\u001b[?25h  Preparing metadata (setup.py) ... \u001b[?25l\u001b[?25hdone\n",
            "Collecting opencv-python==4.5.4.58 (from -r /content/drive/MyDrive/Colab_Notebooks/MEC_Final/PIDM_Diffusion/PIDM/requirements.txt (line 3))\n",
            "  Downloading opencv_python-4.5.4.58-cp310-cp310-manylinux2014_x86_64.whl (60.3 MB)\n",
            "\u001b[2K     \u001b[90m━━━━━━━━━━━━━━━━━━━━━━━━━━━━━━━━━━━━━━━━\u001b[0m \u001b[32m60.3/60.3 MB\u001b[0m \u001b[31m27.1 MB/s\u001b[0m eta \u001b[36m0:00:00\u001b[0m\n",
            "\u001b[?25hCollecting Pillow==8.3.2 (from -r /content/drive/MyDrive/Colab_Notebooks/MEC_Final/PIDM_Diffusion/PIDM/requirements.txt (line 4))\n",
            "  Downloading Pillow-8.3.2-cp310-cp310-manylinux_2_17_x86_64.manylinux2014_x86_64.whl (3.0 MB)\n",
            "\u001b[2K     \u001b[90m━━━━━━━━━━━━━━━━━━━━━━━━━━━━━━━━━━━━━━━━\u001b[0m \u001b[32m3.0/3.0 MB\u001b[0m \u001b[31m95.4 MB/s\u001b[0m eta \u001b[36m0:00:00\u001b[0m\n",
            "\u001b[?25hCollecting PyYAML==5.4.1 (from -r /content/drive/MyDrive/Colab_Notebooks/MEC_Final/PIDM_Diffusion/PIDM/requirements.txt (line 5))\n",
            "  Downloading PyYAML-5.4.1.tar.gz (175 kB)\n",
            "\u001b[2K     \u001b[90m━━━━━━━━━━━━━━━━━━━━━━━━━━━━━━━━━━━━━━\u001b[0m \u001b[32m175.1/175.1 kB\u001b[0m \u001b[31m22.6 MB/s\u001b[0m eta \u001b[36m0:00:00\u001b[0m\n",
            "\u001b[?25h  Installing build dependencies ... \u001b[?25l\u001b[?25hdone\n",
            "  Getting requirements to build wheel ... \u001b[?25l\u001b[?25hdone\n",
            "  Preparing metadata (pyproject.toml) ... \u001b[?25l\u001b[?25hdone\n",
            "Requirement already satisfied: scikit-image in /usr/local/lib/python3.10/dist-packages (from -r /content/drive/MyDrive/Colab_Notebooks/MEC_Final/PIDM_Diffusion/PIDM/requirements.txt (line 6)) (0.19.3)\n",
            "Collecting tensorboard==2.6.0 (from -r /content/drive/MyDrive/Colab_Notebooks/MEC_Final/PIDM_Diffusion/PIDM/requirements.txt (line 7))\n",
            "  Downloading tensorboard-2.6.0-py3-none-any.whl (5.6 MB)\n",
            "\u001b[2K     \u001b[90m━━━━━━━━━━━━━━━━━━━━━━━━━━━━━━━━━━━━━━━━\u001b[0m \u001b[32m5.6/5.6 MB\u001b[0m \u001b[31m115.6 MB/s\u001b[0m eta \u001b[36m0:00:00\u001b[0m\n",
            "\u001b[?25hCollecting tqdm==4.62.3 (from -r /content/drive/MyDrive/Colab_Notebooks/MEC_Final/PIDM_Diffusion/PIDM/requirements.txt (line 8))\n",
            "  Downloading tqdm-4.62.3-py2.py3-none-any.whl (76 kB)\n",
            "\u001b[2K     \u001b[90m━━━━━━━━━━━━━━━━━━━━━━━━━━━━━━━━━━━━━━━━\u001b[0m \u001b[32m76.2/76.2 kB\u001b[0m \u001b[31m11.7 MB/s\u001b[0m eta \u001b[36m0:00:00\u001b[0m\n",
            "\u001b[?25hCollecting wandb (from -r /content/drive/MyDrive/Colab_Notebooks/MEC_Final/PIDM_Diffusion/PIDM/requirements.txt (line 9))\n",
            "  Downloading wandb-0.15.2-py3-none-any.whl (2.0 MB)\n",
            "\u001b[2K     \u001b[90m━━━━━━━━━━━━━━━━━━━━━━━━━━━━━━━━━━━━━━━━\u001b[0m \u001b[32m2.0/2.0 MB\u001b[0m \u001b[31m93.1 MB/s\u001b[0m eta \u001b[36m0:00:00\u001b[0m\n",
            "\u001b[?25hCollecting tensorfn (from -r /content/drive/MyDrive/Colab_Notebooks/MEC_Final/PIDM_Diffusion/PIDM/requirements.txt (line 10))\n",
            "  Downloading tensorfn-0.1.28-py3-none-any.whl (51 kB)\n",
            "\u001b[2K     \u001b[90m━━━━━━━━━━━━━━━━━━━━━━━━━━━━━━━━━━━━━━━━\u001b[0m \u001b[32m51.2/51.2 kB\u001b[0m \u001b[31m7.2 MB/s\u001b[0m eta \u001b[36m0:00:00\u001b[0m\n",
            "\u001b[?25hRequirement already satisfied: scipy in /usr/local/lib/python3.10/dist-packages (from -r /content/drive/MyDrive/Colab_Notebooks/MEC_Final/PIDM_Diffusion/PIDM/requirements.txt (line 11)) (1.10.1)\n",
            "Requirement already satisfied: numpy in /usr/local/lib/python3.10/dist-packages (from imageio==2.10.3->-r /content/drive/MyDrive/Colab_Notebooks/MEC_Final/PIDM_Diffusion/PIDM/requirements.txt (line 1)) (1.22.4)\n",
            "Requirement already satisfied: absl-py>=0.4 in /usr/local/lib/python3.10/dist-packages (from tensorboard==2.6.0->-r /content/drive/MyDrive/Colab_Notebooks/MEC_Final/PIDM_Diffusion/PIDM/requirements.txt (line 7)) (1.4.0)\n",
            "Requirement already satisfied: grpcio>=1.24.3 in /usr/local/lib/python3.10/dist-packages (from tensorboard==2.6.0->-r /content/drive/MyDrive/Colab_Notebooks/MEC_Final/PIDM_Diffusion/PIDM/requirements.txt (line 7)) (1.54.0)\n",
            "Collecting google-auth<2,>=1.6.3 (from tensorboard==2.6.0->-r /content/drive/MyDrive/Colab_Notebooks/MEC_Final/PIDM_Diffusion/PIDM/requirements.txt (line 7))\n",
            "  Downloading google_auth-1.35.0-py2.py3-none-any.whl (152 kB)\n",
            "\u001b[2K     \u001b[90m━━━━━━━━━━━━━━━━━━━━━━━━━━━━━━━━━━━━━━\u001b[0m \u001b[32m152.9/152.9 kB\u001b[0m \u001b[31m20.7 MB/s\u001b[0m eta \u001b[36m0:00:00\u001b[0m\n",
            "\u001b[?25hCollecting google-auth-oauthlib<0.5,>=0.4.1 (from tensorboard==2.6.0->-r /content/drive/MyDrive/Colab_Notebooks/MEC_Final/PIDM_Diffusion/PIDM/requirements.txt (line 7))\n",
            "  Downloading google_auth_oauthlib-0.4.6-py2.py3-none-any.whl (18 kB)\n",
            "Requirement already satisfied: markdown>=2.6.8 in /usr/local/lib/python3.10/dist-packages (from tensorboard==2.6.0->-r /content/drive/MyDrive/Colab_Notebooks/MEC_Final/PIDM_Diffusion/PIDM/requirements.txt (line 7)) (3.4.3)\n",
            "Requirement already satisfied: protobuf>=3.6.0 in /usr/local/lib/python3.10/dist-packages (from tensorboard==2.6.0->-r /content/drive/MyDrive/Colab_Notebooks/MEC_Final/PIDM_Diffusion/PIDM/requirements.txt (line 7)) (3.20.3)\n",
            "Requirement already satisfied: requests<3,>=2.21.0 in /usr/local/lib/python3.10/dist-packages (from tensorboard==2.6.0->-r /content/drive/MyDrive/Colab_Notebooks/MEC_Final/PIDM_Diffusion/PIDM/requirements.txt (line 7)) (2.27.1)\n",
            "Requirement already satisfied: setuptools>=41.0.0 in /usr/local/lib/python3.10/dist-packages (from tensorboard==2.6.0->-r /content/drive/MyDrive/Colab_Notebooks/MEC_Final/PIDM_Diffusion/PIDM/requirements.txt (line 7)) (67.7.2)\n",
            "Collecting tensorboard-data-server<0.7.0,>=0.6.0 (from tensorboard==2.6.0->-r /content/drive/MyDrive/Colab_Notebooks/MEC_Final/PIDM_Diffusion/PIDM/requirements.txt (line 7))\n",
            "  Downloading tensorboard_data_server-0.6.1-py3-none-manylinux2010_x86_64.whl (4.9 MB)\n",
            "\u001b[2K     \u001b[90m━━━━━━━━━━━━━━━━━━━━━━━━━━━━━━━━━━━━━━━━\u001b[0m \u001b[32m4.9/4.9 MB\u001b[0m \u001b[31m114.8 MB/s\u001b[0m eta \u001b[36m0:00:00\u001b[0m\n",
            "\u001b[?25hRequirement already satisfied: tensorboard-plugin-wit>=1.6.0 in /usr/local/lib/python3.10/dist-packages (from tensorboard==2.6.0->-r /content/drive/MyDrive/Colab_Notebooks/MEC_Final/PIDM_Diffusion/PIDM/requirements.txt (line 7)) (1.8.1)\n",
            "Requirement already satisfied: werkzeug>=0.11.15 in /usr/local/lib/python3.10/dist-packages (from tensorboard==2.6.0->-r /content/drive/MyDrive/Colab_Notebooks/MEC_Final/PIDM_Diffusion/PIDM/requirements.txt (line 7)) (2.3.0)\n",
            "Requirement already satisfied: wheel>=0.26 in /usr/local/lib/python3.10/dist-packages (from tensorboard==2.6.0->-r /content/drive/MyDrive/Colab_Notebooks/MEC_Final/PIDM_Diffusion/PIDM/requirements.txt (line 7)) (0.40.0)\n",
            "Requirement already satisfied: networkx>=2.2 in /usr/local/lib/python3.10/dist-packages (from scikit-image->-r /content/drive/MyDrive/Colab_Notebooks/MEC_Final/PIDM_Diffusion/PIDM/requirements.txt (line 6)) (3.1)\n",
            "Requirement already satisfied: tifffile>=2019.7.26 in /usr/local/lib/python3.10/dist-packages (from scikit-image->-r /content/drive/MyDrive/Colab_Notebooks/MEC_Final/PIDM_Diffusion/PIDM/requirements.txt (line 6)) (2023.4.12)\n",
            "Requirement already satisfied: PyWavelets>=1.1.1 in /usr/local/lib/python3.10/dist-packages (from scikit-image->-r /content/drive/MyDrive/Colab_Notebooks/MEC_Final/PIDM_Diffusion/PIDM/requirements.txt (line 6)) (1.4.1)\n",
            "Requirement already satisfied: packaging>=20.0 in /usr/local/lib/python3.10/dist-packages (from scikit-image->-r /content/drive/MyDrive/Colab_Notebooks/MEC_Final/PIDM_Diffusion/PIDM/requirements.txt (line 6)) (23.1)\n",
            "Requirement already satisfied: Click!=8.0.0,>=7.0 in /usr/local/lib/python3.10/dist-packages (from wandb->-r /content/drive/MyDrive/Colab_Notebooks/MEC_Final/PIDM_Diffusion/PIDM/requirements.txt (line 9)) (8.1.3)\n",
            "Collecting GitPython!=3.1.29,>=1.0.0 (from wandb->-r /content/drive/MyDrive/Colab_Notebooks/MEC_Final/PIDM_Diffusion/PIDM/requirements.txt (line 9))\n",
            "  Downloading GitPython-3.1.31-py3-none-any.whl (184 kB)\n",
            "\u001b[2K     \u001b[90m━━━━━━━━━━━━━━━━━━━━━━━━━━━━━━━━━━━━━━\u001b[0m \u001b[32m184.3/184.3 kB\u001b[0m \u001b[31m25.2 MB/s\u001b[0m eta \u001b[36m0:00:00\u001b[0m\n",
            "\u001b[?25hRequirement already satisfied: psutil>=5.0.0 in /usr/local/lib/python3.10/dist-packages (from wandb->-r /content/drive/MyDrive/Colab_Notebooks/MEC_Final/PIDM_Diffusion/PIDM/requirements.txt (line 9)) (5.9.5)\n",
            "Collecting sentry-sdk>=1.0.0 (from wandb->-r /content/drive/MyDrive/Colab_Notebooks/MEC_Final/PIDM_Diffusion/PIDM/requirements.txt (line 9))\n",
            "  Downloading sentry_sdk-1.23.0-py2.py3-none-any.whl (205 kB)\n",
            "\u001b[2K     \u001b[90m━━━━━━━━━━━━━━━━━━━━━━━━━━━━━━━━━━━━━━\u001b[0m \u001b[32m205.1/205.1 kB\u001b[0m \u001b[31m27.0 MB/s\u001b[0m eta \u001b[36m0:00:00\u001b[0m\n",
            "\u001b[?25hCollecting docker-pycreds>=0.4.0 (from wandb->-r /content/drive/MyDrive/Colab_Notebooks/MEC_Final/PIDM_Diffusion/PIDM/requirements.txt (line 9))\n",
            "  Downloading docker_pycreds-0.4.0-py2.py3-none-any.whl (9.0 kB)\n",
            "Collecting pathtools (from wandb->-r /content/drive/MyDrive/Colab_Notebooks/MEC_Final/PIDM_Diffusion/PIDM/requirements.txt (line 9))\n",
            "  Downloading pathtools-0.1.2.tar.gz (11 kB)\n",
            "  Preparing metadata (setup.py) ... \u001b[?25l\u001b[?25hdone\n",
            "Collecting setproctitle (from wandb->-r /content/drive/MyDrive/Colab_Notebooks/MEC_Final/PIDM_Diffusion/PIDM/requirements.txt (line 9))\n",
            "  Downloading setproctitle-1.3.2-cp310-cp310-manylinux_2_5_x86_64.manylinux1_x86_64.manylinux_2_17_x86_64.manylinux2014_x86_64.whl (30 kB)\n",
            "Requirement already satisfied: appdirs>=1.4.3 in /usr/local/lib/python3.10/dist-packages (from wandb->-r /content/drive/MyDrive/Colab_Notebooks/MEC_Final/PIDM_Diffusion/PIDM/requirements.txt (line 9)) (1.4.4)\n",
            "Requirement already satisfied: torch>=1.1 in /usr/local/lib/python3.10/dist-packages (from tensorfn->-r /content/drive/MyDrive/Colab_Notebooks/MEC_Final/PIDM_Diffusion/PIDM/requirements.txt (line 10)) (2.0.0+cu118)\n",
            "Requirement already satisfied: pydantic>=1.8 in /usr/local/lib/python3.10/dist-packages (from tensorfn->-r /content/drive/MyDrive/Colab_Notebooks/MEC_Final/PIDM_Diffusion/PIDM/requirements.txt (line 10)) (1.10.7)\n",
            "Collecting pyhocon>=0.3.54 (from tensorfn->-r /content/drive/MyDrive/Colab_Notebooks/MEC_Final/PIDM_Diffusion/PIDM/requirements.txt (line 10))\n",
            "  Downloading pyhocon-0.3.60.tar.gz (158 kB)\n",
            "\u001b[2K     \u001b[90m━━━━━━━━━━━━━━━━━━━━━━━━━━━━━━━━━━━━━━\u001b[0m \u001b[32m158.8/158.8 kB\u001b[0m \u001b[31m21.2 MB/s\u001b[0m eta \u001b[36m0:00:00\u001b[0m\n",
            "\u001b[?25h  Preparing metadata (setup.py) ... \u001b[?25l\u001b[?25hdone\n",
            "Requirement already satisfied: termcolor in /usr/local/lib/python3.10/dist-packages (from tensorfn->-r /content/drive/MyDrive/Colab_Notebooks/MEC_Final/PIDM_Diffusion/PIDM/requirements.txt (line 10)) (2.3.0)\n",
            "Requirement already satisfied: tabulate in /usr/local/lib/python3.10/dist-packages (from tensorfn->-r /content/drive/MyDrive/Colab_Notebooks/MEC_Final/PIDM_Diffusion/PIDM/requirements.txt (line 10)) (0.8.10)\n",
            "Collecting boto3 (from tensorfn->-r /content/drive/MyDrive/Colab_Notebooks/MEC_Final/PIDM_Diffusion/PIDM/requirements.txt (line 10))\n",
            "  Downloading boto3-1.26.134-py3-none-any.whl (135 kB)\n",
            "\u001b[2K     \u001b[90m━━━━━━━━━━━━━━━━━━━━━━━━━━━━━━━━━━━━━━\u001b[0m \u001b[32m135.6/135.6 kB\u001b[0m \u001b[31m19.5 MB/s\u001b[0m eta \u001b[36m0:00:00\u001b[0m\n",
            "\u001b[?25hRequirement already satisfied: rich in /usr/local/lib/python3.10/dist-packages (from tensorfn->-r /content/drive/MyDrive/Colab_Notebooks/MEC_Final/PIDM_Diffusion/PIDM/requirements.txt (line 10)) (13.3.4)\n",
            "Requirement already satisfied: six>=1.4.0 in /usr/local/lib/python3.10/dist-packages (from docker-pycreds>=0.4.0->wandb->-r /content/drive/MyDrive/Colab_Notebooks/MEC_Final/PIDM_Diffusion/PIDM/requirements.txt (line 9)) (1.16.0)\n",
            "Collecting gitdb<5,>=4.0.1 (from GitPython!=3.1.29,>=1.0.0->wandb->-r /content/drive/MyDrive/Colab_Notebooks/MEC_Final/PIDM_Diffusion/PIDM/requirements.txt (line 9))\n",
            "  Downloading gitdb-4.0.10-py3-none-any.whl (62 kB)\n",
            "\u001b[2K     \u001b[90m━━━━━━━━━━━━━━━━━━━━━━━━━━━━━━━━━━━━━━━━\u001b[0m \u001b[32m62.7/62.7 kB\u001b[0m \u001b[31m9.1 MB/s\u001b[0m eta \u001b[36m0:00:00\u001b[0m\n",
            "\u001b[?25hCollecting cachetools<5.0,>=2.0.0 (from google-auth<2,>=1.6.3->tensorboard==2.6.0->-r /content/drive/MyDrive/Colab_Notebooks/MEC_Final/PIDM_Diffusion/PIDM/requirements.txt (line 7))\n",
            "  Downloading cachetools-4.2.4-py3-none-any.whl (10 kB)\n",
            "Requirement already satisfied: pyasn1-modules>=0.2.1 in /usr/local/lib/python3.10/dist-packages (from google-auth<2,>=1.6.3->tensorboard==2.6.0->-r /content/drive/MyDrive/Colab_Notebooks/MEC_Final/PIDM_Diffusion/PIDM/requirements.txt (line 7)) (0.3.0)\n",
            "Requirement already satisfied: rsa<5,>=3.1.4 in /usr/local/lib/python3.10/dist-packages (from google-auth<2,>=1.6.3->tensorboard==2.6.0->-r /content/drive/MyDrive/Colab_Notebooks/MEC_Final/PIDM_Diffusion/PIDM/requirements.txt (line 7)) (4.9)\n",
            "Requirement already satisfied: requests-oauthlib>=0.7.0 in /usr/local/lib/python3.10/dist-packages (from google-auth-oauthlib<0.5,>=0.4.1->tensorboard==2.6.0->-r /content/drive/MyDrive/Colab_Notebooks/MEC_Final/PIDM_Diffusion/PIDM/requirements.txt (line 7)) (1.3.1)\n",
            "Requirement already satisfied: typing-extensions>=4.2.0 in /usr/local/lib/python3.10/dist-packages (from pydantic>=1.8->tensorfn->-r /content/drive/MyDrive/Colab_Notebooks/MEC_Final/PIDM_Diffusion/PIDM/requirements.txt (line 10)) (4.5.0)\n",
            "Requirement already satisfied: pyparsing<4,>=2 in /usr/local/lib/python3.10/dist-packages (from pyhocon>=0.3.54->tensorfn->-r /content/drive/MyDrive/Colab_Notebooks/MEC_Final/PIDM_Diffusion/PIDM/requirements.txt (line 10)) (3.0.9)\n",
            "Requirement already satisfied: urllib3<1.27,>=1.21.1 in /usr/local/lib/python3.10/dist-packages (from requests<3,>=2.21.0->tensorboard==2.6.0->-r /content/drive/MyDrive/Colab_Notebooks/MEC_Final/PIDM_Diffusion/PIDM/requirements.txt (line 7)) (1.26.15)\n",
            "Requirement already satisfied: certifi>=2017.4.17 in /usr/local/lib/python3.10/dist-packages (from requests<3,>=2.21.0->tensorboard==2.6.0->-r /content/drive/MyDrive/Colab_Notebooks/MEC_Final/PIDM_Diffusion/PIDM/requirements.txt (line 7)) (2022.12.7)\n",
            "Requirement already satisfied: charset-normalizer~=2.0.0 in /usr/local/lib/python3.10/dist-packages (from requests<3,>=2.21.0->tensorboard==2.6.0->-r /content/drive/MyDrive/Colab_Notebooks/MEC_Final/PIDM_Diffusion/PIDM/requirements.txt (line 7)) (2.0.12)\n",
            "Requirement already satisfied: idna<4,>=2.5 in /usr/local/lib/python3.10/dist-packages (from requests<3,>=2.21.0->tensorboard==2.6.0->-r /content/drive/MyDrive/Colab_Notebooks/MEC_Final/PIDM_Diffusion/PIDM/requirements.txt (line 7)) (3.4)\n",
            "Requirement already satisfied: filelock in /usr/local/lib/python3.10/dist-packages (from torch>=1.1->tensorfn->-r /content/drive/MyDrive/Colab_Notebooks/MEC_Final/PIDM_Diffusion/PIDM/requirements.txt (line 10)) (3.12.0)\n",
            "Requirement already satisfied: sympy in /usr/local/lib/python3.10/dist-packages (from torch>=1.1->tensorfn->-r /content/drive/MyDrive/Colab_Notebooks/MEC_Final/PIDM_Diffusion/PIDM/requirements.txt (line 10)) (1.11.1)\n",
            "Requirement already satisfied: jinja2 in /usr/local/lib/python3.10/dist-packages (from torch>=1.1->tensorfn->-r /content/drive/MyDrive/Colab_Notebooks/MEC_Final/PIDM_Diffusion/PIDM/requirements.txt (line 10)) (3.1.2)\n",
            "Requirement already satisfied: triton==2.0.0 in /usr/local/lib/python3.10/dist-packages (from torch>=1.1->tensorfn->-r /content/drive/MyDrive/Colab_Notebooks/MEC_Final/PIDM_Diffusion/PIDM/requirements.txt (line 10)) (2.0.0)\n",
            "Requirement already satisfied: cmake in /usr/local/lib/python3.10/dist-packages (from triton==2.0.0->torch>=1.1->tensorfn->-r /content/drive/MyDrive/Colab_Notebooks/MEC_Final/PIDM_Diffusion/PIDM/requirements.txt (line 10)) (3.25.2)\n",
            "Requirement already satisfied: lit in /usr/local/lib/python3.10/dist-packages (from triton==2.0.0->torch>=1.1->tensorfn->-r /content/drive/MyDrive/Colab_Notebooks/MEC_Final/PIDM_Diffusion/PIDM/requirements.txt (line 10)) (16.0.3)\n",
            "Requirement already satisfied: MarkupSafe>=2.1.1 in /usr/local/lib/python3.10/dist-packages (from werkzeug>=0.11.15->tensorboard==2.6.0->-r /content/drive/MyDrive/Colab_Notebooks/MEC_Final/PIDM_Diffusion/PIDM/requirements.txt (line 7)) (2.1.2)\n",
            "Collecting botocore<1.30.0,>=1.29.134 (from boto3->tensorfn->-r /content/drive/MyDrive/Colab_Notebooks/MEC_Final/PIDM_Diffusion/PIDM/requirements.txt (line 10))\n",
            "  Downloading botocore-1.29.134-py3-none-any.whl (10.7 MB)\n",
            "\u001b[2K     \u001b[90m━━━━━━━━━━━━━━━━━━━━━━━━━━━━━━━━━━━━━━━\u001b[0m \u001b[32m10.7/10.7 MB\u001b[0m \u001b[31m112.6 MB/s\u001b[0m eta \u001b[36m0:00:00\u001b[0m\n",
            "\u001b[?25hCollecting jmespath<2.0.0,>=0.7.1 (from boto3->tensorfn->-r /content/drive/MyDrive/Colab_Notebooks/MEC_Final/PIDM_Diffusion/PIDM/requirements.txt (line 10))\n",
            "  Downloading jmespath-1.0.1-py3-none-any.whl (20 kB)\n",
            "Collecting s3transfer<0.7.0,>=0.6.0 (from boto3->tensorfn->-r /content/drive/MyDrive/Colab_Notebooks/MEC_Final/PIDM_Diffusion/PIDM/requirements.txt (line 10))\n",
            "  Downloading s3transfer-0.6.1-py3-none-any.whl (79 kB)\n",
            "\u001b[2K     \u001b[90m━━━━━━━━━━━━━━━━━━━━━━━━━━━━━━━━━━━━━━━━\u001b[0m \u001b[32m79.8/79.8 kB\u001b[0m \u001b[31m9.4 MB/s\u001b[0m eta \u001b[36m0:00:00\u001b[0m\n",
            "\u001b[?25hRequirement already satisfied: markdown-it-py<3.0.0,>=2.2.0 in /usr/local/lib/python3.10/dist-packages (from rich->tensorfn->-r /content/drive/MyDrive/Colab_Notebooks/MEC_Final/PIDM_Diffusion/PIDM/requirements.txt (line 10)) (2.2.0)\n",
            "Requirement already satisfied: pygments<3.0.0,>=2.13.0 in /usr/local/lib/python3.10/dist-packages (from rich->tensorfn->-r /content/drive/MyDrive/Colab_Notebooks/MEC_Final/PIDM_Diffusion/PIDM/requirements.txt (line 10)) (2.14.0)\n",
            "Requirement already satisfied: python-dateutil<3.0.0,>=2.1 in /usr/local/lib/python3.10/dist-packages (from botocore<1.30.0,>=1.29.134->boto3->tensorfn->-r /content/drive/MyDrive/Colab_Notebooks/MEC_Final/PIDM_Diffusion/PIDM/requirements.txt (line 10)) (2.8.2)\n",
            "Collecting smmap<6,>=3.0.1 (from gitdb<5,>=4.0.1->GitPython!=3.1.29,>=1.0.0->wandb->-r /content/drive/MyDrive/Colab_Notebooks/MEC_Final/PIDM_Diffusion/PIDM/requirements.txt (line 9))\n",
            "  Downloading smmap-5.0.0-py3-none-any.whl (24 kB)\n",
            "Requirement already satisfied: mdurl~=0.1 in /usr/local/lib/python3.10/dist-packages (from markdown-it-py<3.0.0,>=2.2.0->rich->tensorfn->-r /content/drive/MyDrive/Colab_Notebooks/MEC_Final/PIDM_Diffusion/PIDM/requirements.txt (line 10)) (0.1.2)\n",
            "Requirement already satisfied: pyasn1<0.6.0,>=0.4.6 in /usr/local/lib/python3.10/dist-packages (from pyasn1-modules>=0.2.1->google-auth<2,>=1.6.3->tensorboard==2.6.0->-r /content/drive/MyDrive/Colab_Notebooks/MEC_Final/PIDM_Diffusion/PIDM/requirements.txt (line 7)) (0.5.0)\n",
            "Requirement already satisfied: oauthlib>=3.0.0 in /usr/local/lib/python3.10/dist-packages (from requests-oauthlib>=0.7.0->google-auth-oauthlib<0.5,>=0.4.1->tensorboard==2.6.0->-r /content/drive/MyDrive/Colab_Notebooks/MEC_Final/PIDM_Diffusion/PIDM/requirements.txt (line 7)) (3.2.2)\n",
            "Requirement already satisfied: mpmath>=0.19 in /usr/local/lib/python3.10/dist-packages (from sympy->torch>=1.1->tensorfn->-r /content/drive/MyDrive/Colab_Notebooks/MEC_Final/PIDM_Diffusion/PIDM/requirements.txt (line 10)) (1.3.0)\n",
            "Building wheels for collected packages: lmdb, PyYAML, pyhocon, pathtools\n",
            "  Building wheel for lmdb (setup.py) ... \u001b[?25l\u001b[?25hdone\n",
            "  Created wheel for lmdb: filename=lmdb-1.2.1-cp310-cp310-linux_x86_64.whl size=265276 sha256=510052948c9eb80eece7f05fa2842d93010b0aa2d2f41ffbe123e8d6401e9e9a\n",
            "  Stored in directory: /root/.cache/pip/wheels/ae/36/fc/13e586283759d30c3efc3d0b917b2c5f1b69d171de8b7ed204\n",
            "  Building wheel for PyYAML (pyproject.toml) ... \u001b[?25l\u001b[?25hdone\n",
            "  Created wheel for PyYAML: filename=PyYAML-5.4.1-cp310-cp310-linux_x86_64.whl size=45658 sha256=372adf443f4624ff9bac0c1ba54559ebdf6235b66add1f51665199a626191688\n",
            "  Stored in directory: /root/.cache/pip/wheels/c7/0d/22/696ee92245ad710f506eee79bb05c740d8abccd3ecdb778683\n",
            "  Building wheel for pyhocon (setup.py) ... \u001b[?25l\u001b[?25hdone\n",
            "  Created wheel for pyhocon: filename=pyhocon-0.3.60-py3-none-any.whl size=20865 sha256=0af3733950a2f429d66e125a4949e63f3b411c50d308f9d2b7de36f0074ffba0\n",
            "  Stored in directory: /root/.cache/pip/wheels/32/79/47/98ab23fa895daa293e4dd4ce43e581c035ca15e908a2d94104\n",
            "  Building wheel for pathtools (setup.py) ... \u001b[?25l\u001b[?25hdone\n",
            "  Created wheel for pathtools: filename=pathtools-0.1.2-py3-none-any.whl size=8791 sha256=15d5f8fb7b94eab47ffe2eadf2e1852330009d289f15209e395b4b747cd783a8\n",
            "  Stored in directory: /root/.cache/pip/wheels/e7/f3/22/152153d6eb222ee7a56ff8617d80ee5207207a8c00a7aab794\n",
            "Successfully built lmdb PyYAML pyhocon pathtools\n",
            "Installing collected packages: pathtools, lmdb, tqdm, tensorboard-data-server, smmap, setproctitle, sentry-sdk, PyYAML, pyhocon, Pillow, opencv-python, jmespath, docker-pycreds, cachetools, imageio, google-auth, gitdb, botocore, s3transfer, google-auth-oauthlib, GitPython, wandb, tensorboard, boto3, tensorfn\n",
            "  Attempting uninstall: tqdm\n",
            "    Found existing installation: tqdm 4.65.0\n",
            "    Uninstalling tqdm-4.65.0:\n",
            "      Successfully uninstalled tqdm-4.65.0\n",
            "  Attempting uninstall: tensorboard-data-server\n",
            "    Found existing installation: tensorboard-data-server 0.7.0\n",
            "    Uninstalling tensorboard-data-server-0.7.0:\n",
            "      Successfully uninstalled tensorboard-data-server-0.7.0\n",
            "  Attempting uninstall: PyYAML\n",
            "    Found existing installation: PyYAML 6.0\n",
            "    Uninstalling PyYAML-6.0:\n",
            "      Successfully uninstalled PyYAML-6.0\n",
            "  Attempting uninstall: Pillow\n",
            "    Found existing installation: Pillow 8.4.0\n",
            "    Uninstalling Pillow-8.4.0:\n",
            "      Successfully uninstalled Pillow-8.4.0\n",
            "  Attempting uninstall: opencv-python\n",
            "    Found existing installation: opencv-python 4.7.0.72\n",
            "    Uninstalling opencv-python-4.7.0.72:\n",
            "      Successfully uninstalled opencv-python-4.7.0.72\n",
            "  Attempting uninstall: cachetools\n",
            "    Found existing installation: cachetools 5.3.0\n",
            "    Uninstalling cachetools-5.3.0:\n",
            "      Successfully uninstalled cachetools-5.3.0\n",
            "  Attempting uninstall: imageio\n",
            "    Found existing installation: imageio 2.25.1\n",
            "    Uninstalling imageio-2.25.1:\n",
            "      Successfully uninstalled imageio-2.25.1\n",
            "  Attempting uninstall: google-auth\n",
            "    Found existing installation: google-auth 2.17.3\n",
            "    Uninstalling google-auth-2.17.3:\n",
            "      Successfully uninstalled google-auth-2.17.3\n",
            "  Attempting uninstall: google-auth-oauthlib\n",
            "    Found existing installation: google-auth-oauthlib 1.0.0\n",
            "    Uninstalling google-auth-oauthlib-1.0.0:\n",
            "      Successfully uninstalled google-auth-oauthlib-1.0.0\n",
            "  Attempting uninstall: tensorboard\n",
            "    Found existing installation: tensorboard 2.12.2\n",
            "    Uninstalling tensorboard-2.12.2:\n",
            "      Successfully uninstalled tensorboard-2.12.2\n",
            "\u001b[31mERROR: pip's dependency resolver does not currently take into account all the packages that are installed. This behaviour is the source of the following dependency conflicts.\n",
            "google-api-core 2.11.0 requires google-auth<3.0dev,>=2.14.1, but you have google-auth 1.35.0 which is incompatible.\n",
            "tensorflow 2.12.0 requires tensorboard<2.13,>=2.12, but you have tensorboard 2.6.0 which is incompatible.\n",
            "torchvision 0.15.1+cu118 requires pillow!=8.3.*,>=5.3.0, but you have pillow 8.3.2 which is incompatible.\u001b[0m\u001b[31m\n",
            "\u001b[0mSuccessfully installed GitPython-3.1.31 Pillow-8.3.2 PyYAML-5.4.1 boto3-1.26.134 botocore-1.29.134 cachetools-4.2.4 docker-pycreds-0.4.0 gitdb-4.0.10 google-auth-1.35.0 google-auth-oauthlib-0.4.6 imageio-2.10.3 jmespath-1.0.1 lmdb-1.2.1 opencv-python-4.5.4.58 pathtools-0.1.2 pyhocon-0.3.60 s3transfer-0.6.1 sentry-sdk-1.23.0 setproctitle-1.3.2 smmap-5.0.0 tensorboard-2.6.0 tensorboard-data-server-0.6.1 tensorfn-0.1.28 tqdm-4.62.3 wandb-0.15.2\n"
          ]
        },
        {
          "output_type": "display_data",
          "data": {
            "application/vnd.colab-display-data+json": {
              "pip_warning": {
                "packages": [
                  "PIL",
                  "google"
                ]
              }
            }
          },
          "metadata": {}
        }
      ]
    },
    {
      "cell_type": "code",
      "source": [
        "!nvidia-smi\n"
      ],
      "metadata": {
        "colab": {
          "base_uri": "https://localhost:8080/"
        },
        "id": "cgpQMHznTiiW",
        "outputId": "e0f86d81-5971-41b5-8d2a-e693b4d2bd48"
      },
      "execution_count": 1,
      "outputs": [
        {
          "output_type": "stream",
          "name": "stdout",
          "text": [
            "Tue May 16 16:06:46 2023       \n",
            "+-----------------------------------------------------------------------------+\n",
            "| NVIDIA-SMI 525.85.12    Driver Version: 525.85.12    CUDA Version: 12.0     |\n",
            "|-------------------------------+----------------------+----------------------+\n",
            "| GPU  Name        Persistence-M| Bus-Id        Disp.A | Volatile Uncorr. ECC |\n",
            "| Fan  Temp  Perf  Pwr:Usage/Cap|         Memory-Usage | GPU-Util  Compute M. |\n",
            "|                               |                      |               MIG M. |\n",
            "|===============================+======================+======================|\n",
            "|   0  NVIDIA A100-SXM...  Off  | 00000000:00:04.0 Off |                    0 |\n",
            "| N/A   31C    P0    44W / 400W |      0MiB / 40960MiB |      0%      Default |\n",
            "|                               |                      |             Disabled |\n",
            "+-------------------------------+----------------------+----------------------+\n",
            "                                                                               \n",
            "+-----------------------------------------------------------------------------+\n",
            "| Processes:                                                                  |\n",
            "|  GPU   GI   CI        PID   Type   Process name                  GPU Memory |\n",
            "|        ID   ID                                                   Usage      |\n",
            "|=============================================================================|\n",
            "|  No running processes found                                                 |\n",
            "+-----------------------------------------------------------------------------+\n"
          ]
        }
      ]
    },
    {
      "cell_type": "code",
      "source": [
        "import torch\n",
        "print(torch.cuda.device_count())"
      ],
      "metadata": {
        "colab": {
          "base_uri": "https://localhost:8080/"
        },
        "id": "vrdcNpuiUZdm",
        "outputId": "b198797a-e142-4a3b-9b27-4bfa2e135eee"
      },
      "execution_count": 3,
      "outputs": [
        {
          "output_type": "stream",
          "name": "stdout",
          "text": [
            "1\n"
          ]
        }
      ]
    },
    {
      "cell_type": "code",
      "source": [
        "!python -m torch.distributed.launch \\\n",
        "--nproc_per_node=8 \\\n",
        "--master_port 48949 /content/drive/MyDrive/Colab_Notebooks/MEC_Final/PIDM_Diffusion/PIDM/train.py \\\n",
        "--dataset_path \"/content/drive/MyDrive/Colab_Notebooks/MEC_Final/PIDM_Diffusion/dataset\" \n"
      ],
      "metadata": {
        "colab": {
          "base_uri": "https://localhost:8080/"
        },
        "id": "A93sukNc9rbo",
        "outputId": "6812d381-3b12-4f69-a725-47900d604239"
      },
      "execution_count": 8,
      "outputs": [
        {
          "output_type": "stream",
          "name": "stdout",
          "text": [
            "/usr/local/lib/python3.10/dist-packages/torch/distributed/launch.py:181: FutureWarning: The module torch.distributed.launch is deprecated\n",
            "and will be removed in future. Use torchrun.\n",
            "Note that --use-env is set by default in torchrun.\n",
            "If your script expects `--local-rank` argument to be set, please\n",
            "change it to read from `os.environ['LOCAL_RANK']` instead. See \n",
            "https://pytorch.org/docs/stable/distributed.html#launch-utility for \n",
            "further instructions\n",
            "\n",
            "  warnings.warn(\n",
            "WARNING:torch.distributed.run:\n",
            "*****************************************\n",
            "Setting OMP_NUM_THREADS environment variable for each process to be 1 in default, to avoid your system being overloaded, please further tune the variable for optimal performance in your application as needed. \n",
            "*****************************************\n",
            "Traceback (most recent call last):\n",
            "  File \"/content/drive/MyDrive/Colab_Notebooks/MEC_Final/PIDM_Diffusion/PIDM/train.py\", line 258, in <module>\n",
            "    init_distributed()\n",
            "NameError: name 'init_distributed' is not defined\n",
            "Traceback (most recent call last):\n",
            "  File \"/content/drive/MyDrive/Colab_Notebooks/MEC_Final/PIDM_Diffusion/PIDM/train.py\", line 258, in <module>\n",
            "    init_distributed()\n",
            "NameError: name 'init_distributed' is not defined\n",
            "Traceback (most recent call last):\n",
            "  File \"/content/drive/MyDrive/Colab_Notebooks/MEC_Final/PIDM_Diffusion/PIDM/train.py\", line 258, in <module>\n",
            "    init_distributed()\n",
            "NameError: name 'init_distributed' is not defined\n",
            "Traceback (most recent call last):\n",
            "  File \"/content/drive/MyDrive/Colab_Notebooks/MEC_Final/PIDM_Diffusion/PIDM/train.py\", line 258, in <module>\n",
            "    init_distributed()\n",
            "NameError: name 'init_distributed' is not defined\n",
            "Traceback (most recent call last):\n",
            "  File \"/content/drive/MyDrive/Colab_Notebooks/MEC_Final/PIDM_Diffusion/PIDM/train.py\", line 258, in <module>\n",
            "    init_distributed()\n",
            "NameError: name 'init_distributed' is not defined\n",
            "Traceback (most recent call last):\n",
            "  File \"/content/drive/MyDrive/Colab_Notebooks/MEC_Final/PIDM_Diffusion/PIDM/train.py\", line 258, in <module>\n",
            "    init_distributed()\n",
            "NameError: name 'init_distributed' is not defined\n",
            "Traceback (most recent call last):\n",
            "  File \"/content/drive/MyDrive/Colab_Notebooks/MEC_Final/PIDM_Diffusion/PIDM/train.py\", line 258, in <module>\n",
            "    init_distributed()\n",
            "NameError: name 'init_distributed' is not defined\n",
            "Traceback (most recent call last):\n",
            "  File \"/content/drive/MyDrive/Colab_Notebooks/MEC_Final/PIDM_Diffusion/PIDM/train.py\", line 258, in <module>\n",
            "    init_distributed()\n",
            "NameError: name 'init_distributed' is not defined\n",
            "ERROR:torch.distributed.elastic.multiprocessing.api:failed (exitcode: 1) local_rank: 0 (pid: 14501) of binary: /usr/bin/python3\n",
            "Traceback (most recent call last):\n",
            "  File \"/usr/lib/python3.10/runpy.py\", line 196, in _run_module_as_main\n",
            "    return _run_code(code, main_globals, None,\n",
            "  File \"/usr/lib/python3.10/runpy.py\", line 86, in _run_code\n",
            "    exec(code, run_globals)\n",
            "  File \"/usr/local/lib/python3.10/dist-packages/torch/distributed/launch.py\", line 196, in <module>\n",
            "    main()\n",
            "  File \"/usr/local/lib/python3.10/dist-packages/torch/distributed/launch.py\", line 192, in main\n",
            "    launch(args)\n",
            "  File \"/usr/local/lib/python3.10/dist-packages/torch/distributed/launch.py\", line 177, in launch\n",
            "    run(args)\n",
            "  File \"/usr/local/lib/python3.10/dist-packages/torch/distributed/run.py\", line 785, in run\n",
            "    elastic_launch(\n",
            "  File \"/usr/local/lib/python3.10/dist-packages/torch/distributed/launcher/api.py\", line 134, in __call__\n",
            "    return launch_agent(self._config, self._entrypoint, list(args))\n",
            "  File \"/usr/local/lib/python3.10/dist-packages/torch/distributed/launcher/api.py\", line 250, in launch_agent\n",
            "    raise ChildFailedError(\n",
            "torch.distributed.elastic.multiprocessing.errors.ChildFailedError: \n",
            "============================================================\n",
            "/content/drive/MyDrive/Colab_Notebooks/MEC_Final/PIDM_Diffusion/PIDM/train.py FAILED\n",
            "------------------------------------------------------------\n",
            "Failures:\n",
            "[1]:\n",
            "  time      : 2023-05-16_16:53:09\n",
            "  host      : c06b3a2257e3\n",
            "  rank      : 1 (local_rank: 1)\n",
            "  exitcode  : 1 (pid: 14502)\n",
            "  error_file: <N/A>\n",
            "  traceback : To enable traceback see: https://pytorch.org/docs/stable/elastic/errors.html\n",
            "[2]:\n",
            "  time      : 2023-05-16_16:53:09\n",
            "  host      : c06b3a2257e3\n",
            "  rank      : 2 (local_rank: 2)\n",
            "  exitcode  : 1 (pid: 14503)\n",
            "  error_file: <N/A>\n",
            "  traceback : To enable traceback see: https://pytorch.org/docs/stable/elastic/errors.html\n",
            "[3]:\n",
            "  time      : 2023-05-16_16:53:09\n",
            "  host      : c06b3a2257e3\n",
            "  rank      : 3 (local_rank: 3)\n",
            "  exitcode  : 1 (pid: 14504)\n",
            "  error_file: <N/A>\n",
            "  traceback : To enable traceback see: https://pytorch.org/docs/stable/elastic/errors.html\n",
            "[4]:\n",
            "  time      : 2023-05-16_16:53:09\n",
            "  host      : c06b3a2257e3\n",
            "  rank      : 4 (local_rank: 4)\n",
            "  exitcode  : 1 (pid: 14505)\n",
            "  error_file: <N/A>\n",
            "  traceback : To enable traceback see: https://pytorch.org/docs/stable/elastic/errors.html\n",
            "[5]:\n",
            "  time      : 2023-05-16_16:53:09\n",
            "  host      : c06b3a2257e3\n",
            "  rank      : 5 (local_rank: 5)\n",
            "  exitcode  : 1 (pid: 14506)\n",
            "  error_file: <N/A>\n",
            "  traceback : To enable traceback see: https://pytorch.org/docs/stable/elastic/errors.html\n",
            "[6]:\n",
            "  time      : 2023-05-16_16:53:09\n",
            "  host      : c06b3a2257e3\n",
            "  rank      : 6 (local_rank: 6)\n",
            "  exitcode  : 1 (pid: 14507)\n",
            "  error_file: <N/A>\n",
            "  traceback : To enable traceback see: https://pytorch.org/docs/stable/elastic/errors.html\n",
            "[7]:\n",
            "  time      : 2023-05-16_16:53:09\n",
            "  host      : c06b3a2257e3\n",
            "  rank      : 7 (local_rank: 7)\n",
            "  exitcode  : 1 (pid: 14508)\n",
            "  error_file: <N/A>\n",
            "  traceback : To enable traceback see: https://pytorch.org/docs/stable/elastic/errors.html\n",
            "------------------------------------------------------------\n",
            "Root Cause (first observed failure):\n",
            "[0]:\n",
            "  time      : 2023-05-16_16:53:09\n",
            "  host      : c06b3a2257e3\n",
            "  rank      : 0 (local_rank: 0)\n",
            "  exitcode  : 1 (pid: 14501)\n",
            "  error_file: <N/A>\n",
            "  traceback : To enable traceback see: https://pytorch.org/docs/stable/elastic/errors.html\n",
            "============================================================\n"
          ]
        }
      ]
    },
    {
      "cell_type": "code",
      "source": [
        "#@title Pose Control using PIDM\n",
        "%cd \"/content/drive/MyDrive/Colab_Notebooks/MEC_Final/PIDM_Diffusion/PIDM\"\n",
        "from predict import Predictor\n",
        "from IPython.display import Image \n",
        "from google.colab import files \n",
        "obj = Predictor()\n",
        "\n",
        "### upload a source file\n",
        "#Path = list(files.upload().keys())[0] # Please check \"/content/pidm-demo/data/\" for sample images for source file.\n",
        "### OR enter the path \n",
        "Path = \"/content/drive/MyDrive/Colab_Notebooks/MEC_Final/Videos/Driver_Front_Source/org_images/Tiger Driver Front_1_000000000002.jpg\"\n",
        "\n",
        "obj.predict_pose(image=Path, sample_algorithm='ddim', num_poses=2, nsteps=50)\n",
        "\n",
        "Image('output.png')"
      ],
      "metadata": {
        "id": "t2fcyguGQ3dP"
      },
      "execution_count": null,
      "outputs": []
    },
    {
      "cell_type": "code",
      "source": [],
      "metadata": {
        "id": "iyMYyMpdQ5Hv"
      },
      "execution_count": null,
      "outputs": []
    },
    {
      "cell_type": "code",
      "source": [],
      "metadata": {
        "id": "Lqw4zKZIQ3f4"
      },
      "execution_count": null,
      "outputs": []
    },
    {
      "cell_type": "code",
      "source": [],
      "metadata": {
        "id": "aCaXIuufQ3ji"
      },
      "execution_count": null,
      "outputs": []
    }
  ]
}